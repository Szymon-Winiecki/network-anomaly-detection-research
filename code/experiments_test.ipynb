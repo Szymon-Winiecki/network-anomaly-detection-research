{
 "cells": [
  {
   "cell_type": "code",
   "execution_count": 1,
   "metadata": {},
   "outputs": [],
   "source": [
    "%load_ext autoreload\n",
    "%autoreload 2\n",
    "\n",
    "from pathlib import Path\n",
    "from datetime import datetime\n",
    "\n",
    "from sklearn.impute import SimpleImputer\n",
    "from sklearn.pipeline import Pipeline\n",
    "from sklearn.preprocessing import StandardScaler\n",
    "\n",
    "import sys\n",
    "sys.path.append('./datasets')\n",
    "sys.path.append('./models')\n",
    "\n",
    "from UNSW_NB15 import UNSWNB15Dataset\n",
    "from KDDCUP99 import KDDCUP99Dataset\n",
    "from CICIDS2017 import CICIDS2017Dataset\n",
    "\n",
    "from StandardAE import StandardAE\n",
    "from BAE import BAE"
   ]
  },
  {
   "cell_type": "code",
   "execution_count": 2,
   "metadata": {},
   "outputs": [],
   "source": [
    "pipeline = Pipeline([\n",
    "    ('imputer', SimpleImputer(strategy='median').set_output(transform='pandas')),\n",
    "    ('scaler', StandardScaler().set_output(transform='pandas'))\n",
    "])"
   ]
  },
  {
   "cell_type": "code",
   "execution_count": 7,
   "metadata": {},
   "outputs": [
    {
     "name": "stdout",
     "output_type": "stream",
     "text": [
      "\n",
      "Loaded train data with 912188 samples.\n",
      "Data shape: (912188, 125)\n",
      "num_anomalies: 0\n",
      "num_normal: 912188\n",
      "anomaly ratio: 0.0\n",
      "\n",
      "Loaded val data with 311029 samples.\n",
      "Data shape: (311029, 125)\n",
      "num_anomalies: 250436\n",
      "num_normal: 60593\n",
      "anomaly ratio: 0.8051853685669182\n",
      "\n",
      "Loaded test data with 311029 samples.\n",
      "Data shape: (311029, 125)\n",
      "num_anomalies: 250436\n",
      "num_normal: 60593\n",
      "anomaly ratio: 0.8051853685669182\n"
     ]
    }
   ],
   "source": [
    "data_dir = Path(\"../data/KDDCUP99/preprocessed\")\n",
    "KDDCUP99 = {\n",
    "    'train' : KDDCUP99Dataset(data_dir, type = \"train\", transformer = pipeline),\n",
    "    'val' : KDDCUP99Dataset(data_dir, type = \"val\", transformer = pipeline),\n",
    "    'test' : KDDCUP99Dataset(data_dir, type = \"test\", transformer = pipeline)\n",
    "}\n"
   ]
  },
  {
   "cell_type": "code",
   "execution_count": 9,
   "metadata": {},
   "outputs": [
    {
     "name": "stdout",
     "output_type": "stream",
     "text": [
      "\n",
      "Loaded train data with 1715451 samples.\n",
      "Data shape: (1715451, 80)\n",
      "num_anomalies: 0\n",
      "num_normal: 1715451\n",
      "anomaly ratio: 0.0\n",
      "columns with missing values:\n",
      "['Flow Bytes/s', 'Flow Packets/s']\n",
      "columns with infinity values:\n",
      "[]\n",
      "\n",
      "Loaded val data with 557646 samples.\n",
      "Data shape: (557646, 80)\n",
      "num_anomalies: 278823\n",
      "num_normal: 278823\n",
      "anomaly ratio: 0.5\n",
      "columns with missing values:\n",
      "['Flow Bytes/s', 'Flow Packets/s']\n",
      "columns with infinity values:\n",
      "[]\n",
      "\n",
      "Loaded test data with 557646 samples.\n",
      "Data shape: (557646, 80)\n",
      "num_anomalies: 278823\n",
      "num_normal: 278823\n",
      "anomaly ratio: 0.5\n",
      "columns with missing values:\n",
      "['Flow Bytes/s', 'Flow Packets/s']\n",
      "columns with infinity values:\n",
      "[]\n"
     ]
    }
   ],
   "source": [
    "data_dir = Path(\"../data/CIC-IDS2017/preprocessed\")\n",
    "CICIDS2017 = {\n",
    "    'train' : CICIDS2017Dataset(data_dir, type = \"train\", transformer = pipeline),\n",
    "    'val' : CICIDS2017Dataset(data_dir, type = \"val\", transformer = pipeline),\n",
    "    'test' : CICIDS2017Dataset(data_dir, type = \"test\", transformer = pipeline)\n",
    "}"
   ]
  },
  {
   "cell_type": "code",
   "execution_count": 3,
   "metadata": {},
   "outputs": [
    {
     "name": "stdout",
     "output_type": "stream",
     "text": [
      "\n",
      "Loaded train data with 46000 samples.\n",
      "Data shape: (46000, 196)\n",
      "num_anomalies: 0\n",
      "num_normal: 46000\n",
      "anomaly ratio: 0.0\n",
      "\n",
      "Loaded val data with 22252 samples.\n",
      "Data shape: (22252, 196)\n",
      "num_anomalies: 12252\n",
      "num_normal: 10000\n",
      "anomaly ratio: 0.5506021930612979\n",
      "\n",
      "Loaded test data with 82332 samples.\n",
      "Data shape: (82332, 196)\n",
      "num_anomalies: 45332\n",
      "num_normal: 37000\n",
      "anomaly ratio: 0.5506000097167566\n"
     ]
    }
   ],
   "source": [
    "data_dir = Path(\"../data/UNSW-NB15/preprocessed\")\n",
    "UNSWNB15 = {\n",
    "    'train' : UNSWNB15Dataset(data_dir, type = \"train\", transformer = pipeline),\n",
    "    'val' : UNSWNB15Dataset(data_dir, type = \"val\", transformer = pipeline),\n",
    "    'test' : UNSWNB15Dataset(data_dir, type = \"test\", transformer = pipeline)\n",
    "}"
   ]
  },
  {
   "cell_type": "code",
   "execution_count": 4,
   "metadata": {},
   "outputs": [],
   "source": [
    "def run_experiment(model, \n",
    "                   dataset,\n",
    "                   max_epochs=10,\n",
    "                   experiment_name=\"undefined\",\n",
    "                   run_name=\"undefined\",\n",
    "                   dataset_name=\"undefined\",\n",
    "                   save_model=False):\n",
    "\n",
    "    model.set_tech_params(\n",
    "        accelerator='gpu',\n",
    "        batch_size=1024, \n",
    "        num_workers=1, \n",
    "        persistent_workers=False\n",
    "    )\n",
    "\n",
    "    model.fit(dataset['train'], dataset['val'], max_epochs=max_epochs, log=True, \n",
    "                        logger_params = {\n",
    "                                \"experiment_name\": experiment_name,\n",
    "                                \"run_name\": run_name,\n",
    "                                \"log_model\": False,\n",
    "                                \"tags\": {\"dataset\": dataset_name},\n",
    "                        })\n",
    "    \n",
    "    if save_model:\n",
    "        save_dir = Path(f\"../saved_models/{experiment_name}/{run_name}\")\n",
    "        file_name = f\"{datetime.now().strftime('%Y-%m-%d_%H-%M-%S')}_{model.__class__.__name__}\"\n",
    "        file_num = 0\n",
    "        while (save_dir / f\"{file_name}_{file_num}.pt\").exists():\n",
    "            file_num += 1\n",
    "\n",
    "        model.save(save_dir / f\"{file_name}_{file_num}.pt\")"
   ]
  },
  {
   "cell_type": "code",
   "execution_count": 5,
   "metadata": {},
   "outputs": [
    {
     "name": "stderr",
     "output_type": "stream",
     "text": [
      "GPU available: True (cuda), used: True\n",
      "TPU available: False, using: 0 TPU cores\n",
      "HPU available: False, using: 0 HPUs\n",
      "Experiment with name IADModel test submodels not found. Creating it.\n",
      "C:\\Users\\Szymon\\AppData\\Roaming\\Python\\Python311\\site-packages\\lightning\\pytorch\\callbacks\\model_checkpoint.py:654: Checkpoint directory bin_for_redundant_checkpoints exists and is not empty.\n",
      "LOCAL_RANK: 0 - CUDA_VISIBLE_DEVICES: [0]\n",
      "\n",
      "  | Name    | Type       | Params | Mode \n",
      "-----------------------------------------------\n",
      "0 | encoder | Sequential | 29.4 K | train\n",
      "1 | decoder | Sequential | 29.5 K | train\n",
      "-----------------------------------------------\n",
      "58.9 K    Trainable params\n",
      "0         Non-trainable params\n",
      "58.9 K    Total params\n",
      "0.236     Total estimated model params size (MB)\n",
      "12        Modules in train mode\n",
      "0         Modules in eval mode\n"
     ]
    },
    {
     "data": {
      "application/vnd.jupyter.widget-view+json": {
       "model_id": "e79161230874415a80457d59cd10e87f",
       "version_major": 2,
       "version_minor": 0
      },
      "text/plain": [
       "Sanity Checking: |          | 0/? [00:00<?, ?it/s]"
      ]
     },
     "metadata": {},
     "output_type": "display_data"
    },
    {
     "name": "stderr",
     "output_type": "stream",
     "text": [
      "C:\\Users\\Szymon\\AppData\\Roaming\\Python\\Python311\\site-packages\\lightning\\pytorch\\trainer\\connectors\\data_connector.py:420: Consider setting `persistent_workers=True` in 'val_dataloader' to speed up the dataloader worker initialization.\n",
      "C:\\Users\\Szymon\\AppData\\Roaming\\Python\\Python311\\site-packages\\torchmetrics\\utilities\\prints.py:43: UserWarning: No positive samples in targets, true positive value should be meaningless. Returning zero tensor in true positive score\n",
      "  warnings.warn(*args, **kwargs)  # noqa: B028\n",
      "C:\\Users\\Szymon\\AppData\\Roaming\\Python\\Python311\\site-packages\\lightning\\pytorch\\trainer\\connectors\\data_connector.py:420: Consider setting `persistent_workers=True` in 'train_dataloader' to speed up the dataloader worker initialization.\n",
      "C:\\Users\\Szymon\\AppData\\Roaming\\Python\\Python311\\site-packages\\lightning\\pytorch\\loops\\fit_loop.py:310: The number of training batches (32) is smaller than the logging interval Trainer(log_every_n_steps=50). Set a lower value for log_every_n_steps if you want to see logs for the training epoch.\n"
     ]
    },
    {
     "data": {
      "application/vnd.jupyter.widget-view+json": {
       "model_id": "a68c33ef40bc4a13b0b8085b7bce6315",
       "version_major": 2,
       "version_minor": 0
      },
      "text/plain": [
       "Training: |          | 0/? [00:00<?, ?it/s]"
      ]
     },
     "metadata": {},
     "output_type": "display_data"
    },
    {
     "data": {
      "application/vnd.jupyter.widget-view+json": {
       "model_id": "e37c7bc6871541e194603a7bec227956",
       "version_major": 2,
       "version_minor": 0
      },
      "text/plain": [
       "Validation: |          | 0/? [00:00<?, ?it/s]"
      ]
     },
     "metadata": {},
     "output_type": "display_data"
    },
    {
     "data": {
      "application/vnd.jupyter.widget-view+json": {
       "model_id": "23da17bc24514ecca32011e584357e2c",
       "version_major": 2,
       "version_minor": 0
      },
      "text/plain": [
       "Validation: |          | 0/? [00:00<?, ?it/s]"
      ]
     },
     "metadata": {},
     "output_type": "display_data"
    },
    {
     "data": {
      "application/vnd.jupyter.widget-view+json": {
       "model_id": "90cc5bb61eeb4be4b73362acfc688232",
       "version_major": 2,
       "version_minor": 0
      },
      "text/plain": [
       "Validation: |          | 0/? [00:00<?, ?it/s]"
      ]
     },
     "metadata": {},
     "output_type": "display_data"
    },
    {
     "name": "stderr",
     "output_type": "stream",
     "text": [
      "`Trainer.fit` stopped: `max_epochs=3` reached.\n",
      "GPU available: True (cuda), used: True\n",
      "TPU available: False, using: 0 TPU cores\n",
      "HPU available: False, using: 0 HPUs\n",
      "The tag mlflow.runName is found in tags. The value will be overridden by BAE test v2 cluster_1.\n",
      "LOCAL_RANK: 0 - CUDA_VISIBLE_DEVICES: [0]\n",
      "\n",
      "  | Name    | Type       | Params | Mode \n",
      "-----------------------------------------------\n",
      "0 | encoder | Sequential | 29.4 K | train\n",
      "1 | decoder | Sequential | 29.5 K | train\n",
      "-----------------------------------------------\n",
      "58.9 K    Trainable params\n",
      "0         Non-trainable params\n",
      "58.9 K    Total params\n",
      "0.236     Total estimated model params size (MB)\n",
      "12        Modules in train mode\n",
      "0         Modules in eval mode\n"
     ]
    },
    {
     "data": {
      "application/vnd.jupyter.widget-view+json": {
       "model_id": "d2f582306a134c698816c293a1daec56",
       "version_major": 2,
       "version_minor": 0
      },
      "text/plain": [
       "Sanity Checking: |          | 0/? [00:00<?, ?it/s]"
      ]
     },
     "metadata": {},
     "output_type": "display_data"
    },
    {
     "name": "stderr",
     "output_type": "stream",
     "text": [
      "C:\\Users\\Szymon\\AppData\\Roaming\\Python\\Python311\\site-packages\\lightning\\pytorch\\loops\\fit_loop.py:310: The number of training batches (12) is smaller than the logging interval Trainer(log_every_n_steps=50). Set a lower value for log_every_n_steps if you want to see logs for the training epoch.\n"
     ]
    },
    {
     "data": {
      "application/vnd.jupyter.widget-view+json": {
       "model_id": "35a38786535a4464b13ca5eb8d2b30a3",
       "version_major": 2,
       "version_minor": 0
      },
      "text/plain": [
       "Training: |          | 0/? [00:00<?, ?it/s]"
      ]
     },
     "metadata": {},
     "output_type": "display_data"
    },
    {
     "data": {
      "application/vnd.jupyter.widget-view+json": {
       "model_id": "9c6fc8eed0c244b3bef385d18bd2ac45",
       "version_major": 2,
       "version_minor": 0
      },
      "text/plain": [
       "Validation: |          | 0/? [00:00<?, ?it/s]"
      ]
     },
     "metadata": {},
     "output_type": "display_data"
    },
    {
     "data": {
      "application/vnd.jupyter.widget-view+json": {
       "model_id": "2934e9ab779e403ebde19e8bfb684372",
       "version_major": 2,
       "version_minor": 0
      },
      "text/plain": [
       "Validation: |          | 0/? [00:00<?, ?it/s]"
      ]
     },
     "metadata": {},
     "output_type": "display_data"
    },
    {
     "data": {
      "application/vnd.jupyter.widget-view+json": {
       "model_id": "3f7c0b9f52f14536b1ad17c47c7160dc",
       "version_major": 2,
       "version_minor": 0
      },
      "text/plain": [
       "Validation: |          | 0/? [00:00<?, ?it/s]"
      ]
     },
     "metadata": {},
     "output_type": "display_data"
    },
    {
     "name": "stderr",
     "output_type": "stream",
     "text": [
      "`Trainer.fit` stopped: `max_epochs=3` reached.\n",
      "GPU available: True (cuda), used: True\n",
      "TPU available: False, using: 0 TPU cores\n",
      "HPU available: False, using: 0 HPUs\n",
      "The tag mlflow.runName is found in tags. The value will be overridden by BAE test v2 cluster_2.\n",
      "LOCAL_RANK: 0 - CUDA_VISIBLE_DEVICES: [0]\n",
      "\n",
      "  | Name    | Type       | Params | Mode \n",
      "-----------------------------------------------\n",
      "0 | encoder | Sequential | 29.4 K | train\n",
      "1 | decoder | Sequential | 29.5 K | train\n",
      "-----------------------------------------------\n",
      "58.9 K    Trainable params\n",
      "0         Non-trainable params\n",
      "58.9 K    Total params\n",
      "0.236     Total estimated model params size (MB)\n",
      "12        Modules in train mode\n",
      "0         Modules in eval mode\n"
     ]
    },
    {
     "data": {
      "application/vnd.jupyter.widget-view+json": {
       "model_id": "3744dfe4efa54e2cae30249d033d279b",
       "version_major": 2,
       "version_minor": 0
      },
      "text/plain": [
       "Sanity Checking: |          | 0/? [00:00<?, ?it/s]"
      ]
     },
     "metadata": {},
     "output_type": "display_data"
    },
    {
     "name": "stderr",
     "output_type": "stream",
     "text": [
      "C:\\Users\\Szymon\\AppData\\Roaming\\Python\\Python311\\site-packages\\lightning\\pytorch\\loops\\fit_loop.py:310: The number of training batches (2) is smaller than the logging interval Trainer(log_every_n_steps=50). Set a lower value for log_every_n_steps if you want to see logs for the training epoch.\n"
     ]
    },
    {
     "data": {
      "application/vnd.jupyter.widget-view+json": {
       "model_id": "7c117ecf6e014ac19bf50d90c6b26330",
       "version_major": 2,
       "version_minor": 0
      },
      "text/plain": [
       "Training: |          | 0/? [00:00<?, ?it/s]"
      ]
     },
     "metadata": {},
     "output_type": "display_data"
    },
    {
     "data": {
      "application/vnd.jupyter.widget-view+json": {
       "model_id": "8df2d05404b14beeacd6e082c6062226",
       "version_major": 2,
       "version_minor": 0
      },
      "text/plain": [
       "Validation: |          | 0/? [00:00<?, ?it/s]"
      ]
     },
     "metadata": {},
     "output_type": "display_data"
    },
    {
     "data": {
      "application/vnd.jupyter.widget-view+json": {
       "model_id": "0f9fcc16d2ba48498c0913a57b383925",
       "version_major": 2,
       "version_minor": 0
      },
      "text/plain": [
       "Validation: |          | 0/? [00:00<?, ?it/s]"
      ]
     },
     "metadata": {},
     "output_type": "display_data"
    },
    {
     "data": {
      "application/vnd.jupyter.widget-view+json": {
       "model_id": "925b1dee6176434ea1ca92856d69a3ea",
       "version_major": 2,
       "version_minor": 0
      },
      "text/plain": [
       "Validation: |          | 0/? [00:00<?, ?it/s]"
      ]
     },
     "metadata": {},
     "output_type": "display_data"
    },
    {
     "name": "stderr",
     "output_type": "stream",
     "text": [
      "`Trainer.fit` stopped: `max_epochs=3` reached.\n"
     ]
    }
   ],
   "source": [
    "UNSWNB15_input_size = UNSWNB15['train'][0][0].shape[0]\n",
    "\n",
    "StandardAE_model = StandardAE(input_size=UNSWNB15_input_size, \n",
    "                                hidden_sizes=[128,32, 8], \n",
    "                                dropout=False, \n",
    "                                initial_lr=2e-3, \n",
    "                                linear_lr_start_factor=1, \n",
    "                                linear_lr_end_factor=0.03, \n",
    "                                linear_lr_total_iters=25)\n",
    "\n",
    "BAE_model = BAE(birch_threshold = 0.1, \n",
    "                birch_branching_factor = 50, \n",
    "                birch_n_clusters = 3, \n",
    "                birch_fit_sample_size = 10000,\n",
    "                birch_fit_quantile = 0.99,\n",
    "                base_model = StandardAE, \n",
    "                input_size=UNSWNB15_input_size, \n",
    "                hidden_sizes=[128,32, 8], \n",
    "                dropout=False, \n",
    "                initial_lr=2e-3, \n",
    "                linear_lr_start_factor=1, \n",
    "                linear_lr_end_factor=0.03, \n",
    "                linear_lr_total_iters=25)\n",
    "\n",
    "run_experiment(model=BAE_model,\n",
    "                dataset=UNSWNB15,\n",
    "                max_epochs=3,\n",
    "                experiment_name=\"IADModel test\",\n",
    "                run_name=\"BAE test v3\",\n",
    "                dataset_name=\"UNSW-NB15\",\n",
    "                save_model=True)"
   ]
  },
  {
   "cell_type": "code",
   "execution_count": 6,
   "metadata": {},
   "outputs": [],
   "source": [
    "anomaly_scores = BAE_model.predict_raw(UNSWNB15['val'])"
   ]
  },
  {
   "cell_type": "code",
   "execution_count": 7,
   "metadata": {},
   "outputs": [],
   "source": [
    "metrics_a = BAE_model.evaluate(UNSWNB15['val'])"
   ]
  },
  {
   "cell_type": "code",
   "execution_count": 8,
   "metadata": {},
   "outputs": [
    {
     "name": "stderr",
     "output_type": "stream",
     "text": [
      "d:\\SzymonW\\nauka\\Politechnika\\semestr_10\\Magisterka\\code\\network-anomaly-detection-research\\code\\./models\\BAE.py:240: FutureWarning: You are using `torch.load` with `weights_only=False` (the current default value), which uses the default pickle module implicitly. It is possible to construct malicious pickle data which will execute arbitrary code during unpickling (See https://github.com/pytorch/pytorch/blob/main/SECURITY.md#untrusted-models for more details). In a future release, the default value for `weights_only` will be flipped to `True`. This limits the functions that could be executed during unpickling. Arbitrary objects will no longer be allowed to be loaded via this mode unless they are explicitly allowlisted by the user via `torch.serialization.add_safe_globals`. We recommend you start setting `weights_only=True` for any use case where you don't have full control of the loaded file. Please open an issue on GitHub for any issues related to this experimental feature.\n",
      "  checkpoint = torch.load(path)\n",
      "d:\\SzymonW\\nauka\\Politechnika\\semestr_10\\Magisterka\\code\\network-anomaly-detection-research\\code\\./models\\StandardAE.py:386: FutureWarning: You are using `torch.load` with `weights_only=False` (the current default value), which uses the default pickle module implicitly. It is possible to construct malicious pickle data which will execute arbitrary code during unpickling (See https://github.com/pytorch/pytorch/blob/main/SECURITY.md#untrusted-models for more details). In a future release, the default value for `weights_only` will be flipped to `True`. This limits the functions that could be executed during unpickling. Arbitrary objects will no longer be allowed to be loaded via this mode unless they are explicitly allowlisted by the user via `torch.serialization.add_safe_globals`. We recommend you start setting `weights_only=True` for any use case where you don't have full control of the loaded file. Please open an issue on GitHub for any issues related to this experimental feature.\n",
      "  checkpoint = torch.load(path)\n"
     ]
    }
   ],
   "source": [
    "loaded_model = BAE_model.load(Path(f\"../saved_models/IADModel test/BAE test v2/2025-04-25_12-41-28_BAE_0.pt\"))"
   ]
  },
  {
   "cell_type": "code",
   "execution_count": 9,
   "metadata": {},
   "outputs": [
    {
     "ename": "AttributeError",
     "evalue": "'int' object has no attribute 'to'",
     "output_type": "error",
     "traceback": [
      "\u001b[1;31m---------------------------------------------------------------------------\u001b[0m",
      "\u001b[1;31mAttributeError\u001b[0m                            Traceback (most recent call last)",
      "Cell \u001b[1;32mIn[9], line 1\u001b[0m\n\u001b[1;32m----> 1\u001b[0m metrics_b \u001b[38;5;241m=\u001b[39m \u001b[43mloaded_model\u001b[49m\u001b[38;5;241;43m.\u001b[39;49m\u001b[43mevaluate\u001b[49m\u001b[43m(\u001b[49m\u001b[43mUNSWNB15\u001b[49m\u001b[43m[\u001b[49m\u001b[38;5;124;43m'\u001b[39;49m\u001b[38;5;124;43mval\u001b[39;49m\u001b[38;5;124;43m'\u001b[39;49m\u001b[43m]\u001b[49m\u001b[43m)\u001b[49m\n",
      "File \u001b[1;32md:\\SzymonW\\nauka\\Politechnika\\semestr_10\\Magisterka\\code\\network-anomaly-detection-research\\code\\./models\\BAE.py:155\u001b[0m, in \u001b[0;36mBAE.evaluate\u001b[1;34m(self, dataset)\u001b[0m\n\u001b[0;32m    153\u001b[0m \u001b[38;5;28;01mdef\u001b[39;00m \u001b[38;5;21mevaluate\u001b[39m(\u001b[38;5;28mself\u001b[39m, dataset):\n\u001b[1;32m--> 155\u001b[0m     preds \u001b[38;5;241m=\u001b[39m \u001b[38;5;28;43mself\u001b[39;49m\u001b[38;5;241;43m.\u001b[39;49m\u001b[43mpredict\u001b[49m\u001b[43m(\u001b[49m\u001b[43mdataset\u001b[49m\u001b[43m)\u001b[49m\n\u001b[0;32m    156\u001b[0m     anomaly_scores \u001b[38;5;241m=\u001b[39m \u001b[38;5;28mself\u001b[39m\u001b[38;5;241m.\u001b[39mpredict_raw(dataset)\n\u001b[0;32m    157\u001b[0m     labels \u001b[38;5;241m=\u001b[39m dataset\u001b[38;5;241m.\u001b[39my\u001b[38;5;241m.\u001b[39mclone()\u001b[38;5;241m.\u001b[39mdetach()\n",
      "File \u001b[1;32md:\\SzymonW\\nauka\\Politechnika\\semestr_10\\Magisterka\\code\\network-anomaly-detection-research\\code\\./models\\BAE.py:184\u001b[0m, in \u001b[0;36mBAE.predict\u001b[1;34m(self, dataset)\u001b[0m\n\u001b[0;32m    182\u001b[0m independent_predictions \u001b[38;5;241m=\u001b[39m []\n\u001b[0;32m    183\u001b[0m \u001b[38;5;28;01mfor\u001b[39;00m model \u001b[38;5;129;01min\u001b[39;00m \u001b[38;5;28mself\u001b[39m\u001b[38;5;241m.\u001b[39mautoencoders:\n\u001b[1;32m--> 184\u001b[0m     predictions \u001b[38;5;241m=\u001b[39m \u001b[43mmodel\u001b[49m\u001b[38;5;241;43m.\u001b[39;49m\u001b[43mpredict\u001b[49m\u001b[43m(\u001b[49m\u001b[43mdataset\u001b[49m\u001b[43m)\u001b[49m\n\u001b[0;32m    185\u001b[0m     independent_predictions\u001b[38;5;241m.\u001b[39mappend(predictions)\n\u001b[0;32m    187\u001b[0m \u001b[38;5;66;03m# for each sample select the prediction of the AE of corresponding cluster\u001b[39;00m\n",
      "File \u001b[1;32md:\\SzymonW\\nauka\\Politechnika\\semestr_10\\Magisterka\\code\\network-anomaly-detection-research\\code\\./models\\StandardAE.py:315\u001b[0m, in \u001b[0;36mStandardAE.predict\u001b[1;34m(self, dataset)\u001b[0m\n\u001b[0;32m    314\u001b[0m \u001b[38;5;28;01mdef\u001b[39;00m \u001b[38;5;21mpredict\u001b[39m(\u001b[38;5;28mself\u001b[39m, dataset):\n\u001b[1;32m--> 315\u001b[0m     \u001b[38;5;28mself\u001b[39m\u001b[38;5;241m.\u001b[39mthreshold \u001b[38;5;241m=\u001b[39m \u001b[38;5;28;43mself\u001b[39;49m\u001b[38;5;241;43m.\u001b[39;49m\u001b[43mthreshold\u001b[49m\u001b[38;5;241;43m.\u001b[39;49m\u001b[43mto\u001b[49m(device\u001b[38;5;241m=\u001b[39m\u001b[38;5;28mself\u001b[39m\u001b[38;5;241m.\u001b[39mdevice)\n\u001b[0;32m    317\u001b[0m     model_mode \u001b[38;5;241m=\u001b[39m \u001b[38;5;28mself\u001b[39m\u001b[38;5;241m.\u001b[39mtraining\n\u001b[0;32m    318\u001b[0m     \u001b[38;5;28mself\u001b[39m\u001b[38;5;241m.\u001b[39meval()\n",
      "\u001b[1;31mAttributeError\u001b[0m: 'int' object has no attribute 'to'"
     ]
    }
   ],
   "source": [
    "metrics_b = loaded_model.evaluate(UNSWNB15['val'])"
   ]
  }
 ],
 "metadata": {
  "kernelspec": {
   "display_name": "Python 3",
   "language": "python",
   "name": "python3"
  },
  "language_info": {
   "codemirror_mode": {
    "name": "ipython",
    "version": 3
   },
   "file_extension": ".py",
   "mimetype": "text/x-python",
   "name": "python",
   "nbconvert_exporter": "python",
   "pygments_lexer": "ipython3",
   "version": "3.11.8"
  }
 },
 "nbformat": 4,
 "nbformat_minor": 2
}
