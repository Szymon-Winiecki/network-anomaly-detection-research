{
 "cells": [
  {
   "cell_type": "code",
   "execution_count": 1,
   "metadata": {},
   "outputs": [],
   "source": [
    "%load_ext autoreload\n",
    "%autoreload 2\n",
    "\n",
    "from pathlib import Path\n",
    "\n",
    "from sklearn.impute import SimpleImputer\n",
    "from sklearn.pipeline import Pipeline\n",
    "from sklearn.preprocessing import StandardScaler\n",
    "\n",
    "import sys\n",
    "sys.path.append('./datasets')\n",
    "sys.path.append('./models')\n",
    "sys.path.append('./utils')\n",
    "\n",
    "from utils.experiment_utils import CSVLogger, run_experiment, load_dataset, load_dataset_folds, run_cross_validation\n",
    "\n",
    "from models.AE import AE\n",
    "from models.BAE import BAE\n",
    "from models.SAE import SAE\n",
    "from models.CAE import CAE"
   ]
  },
  {
   "cell_type": "code",
   "execution_count": 2,
   "metadata": {},
   "outputs": [],
   "source": [
    "pipeline = Pipeline([\n",
    "    ('imputer', SimpleImputer(strategy='median').set_output(transform='pandas')),\n",
    "    ('scaler', StandardScaler().set_output(transform='pandas'))\n",
    "])"
   ]
  },
  {
   "cell_type": "code",
   "execution_count": 3,
   "metadata": {},
   "outputs": [
    {
     "name": "stdout",
     "output_type": "stream",
     "text": [
      "\n",
      "CTU-13_08\n",
      "Loaded train data with 21000 samples.\n",
      "Data shape: (21000, 69)\n",
      "num_anomalies: 0\n",
      "num_normal: 21000\n",
      "anomaly ratio: 0.0\n",
      "\n",
      "CTU-13_08\n",
      "Loaded val data with 27932 samples.\n",
      "Data shape: (27932, 69)\n",
      "num_anomalies: 2021\n",
      "num_normal: 25911\n",
      "anomaly ratio: 0.07235428898754118\n",
      "\n",
      "CTU-13_08\n",
      "Loaded test data with 27932 samples.\n",
      "Data shape: (27932, 69)\n",
      "num_anomalies: 2021\n",
      "num_normal: 25911\n",
      "anomaly ratio: 0.07235428898754118\n",
      "\n",
      "CTU-13_09\n",
      "Loaded train data with 11986 samples.\n",
      "Data shape: (11986, 56)\n",
      "num_anomalies: 0\n",
      "num_normal: 11986\n",
      "anomaly ratio: 0.0\n",
      "\n",
      "CTU-13_09\n",
      "Loaded val data with 64486 samples.\n",
      "Data shape: (64486, 56)\n",
      "num_anomalies: 55496\n",
      "num_normal: 8990\n",
      "anomaly ratio: 0.8605898954811897\n",
      "\n",
      "CTU-13_09\n",
      "Loaded test data with 64486 samples.\n",
      "Data shape: (64486, 56)\n",
      "num_anomalies: 55496\n",
      "num_normal: 8990\n",
      "anomaly ratio: 0.8605898954811897\n",
      "\n",
      "CTU-13_10\n",
      "Loaded train data with 6338 samples.\n",
      "Data shape: (6338, 75)\n",
      "num_anomalies: 0\n",
      "num_normal: 6338\n",
      "anomaly ratio: 0.0\n",
      "\n",
      "CTU-13_10\n",
      "Loaded val data with 36660 samples.\n",
      "Data shape: (36660, 75)\n",
      "num_anomalies: 31906\n",
      "num_normal: 4754\n",
      "anomaly ratio: 0.8703218767048554\n",
      "\n",
      "CTU-13_10\n",
      "Loaded test data with 36660 samples.\n",
      "Data shape: (36660, 75)\n",
      "num_anomalies: 31906\n",
      "num_normal: 4754\n",
      "anomaly ratio: 0.8703218767048554\n",
      "\n",
      "CTU-13_13\n",
      "Loaded train data with 12775 samples.\n",
      "Data shape: (12775, 46)\n",
      "num_anomalies: 0\n",
      "num_normal: 12775\n",
      "anomaly ratio: 0.0\n",
      "\n",
      "CTU-13_13\n",
      "Loaded val data with 21583 samples.\n",
      "Data shape: (21583, 46)\n",
      "num_anomalies: 12001\n",
      "num_normal: 9582\n",
      "anomaly ratio: 0.5560394755131354\n",
      "\n",
      "CTU-13_13\n",
      "Loaded test data with 21583 samples.\n",
      "Data shape: (21583, 46)\n",
      "num_anomalies: 12001\n",
      "num_normal: 9582\n",
      "anomaly ratio: 0.5560394755131354\n"
     ]
    }
   ],
   "source": [
    "# KDDCUP99 = load_dataset(\"KDDCUP99\", \"../data/KDDCUP99/preprocessed/\")\n",
    "# CICIDS2017 = load_dataset(\"CICIDS2017\", \"../data/CIC-IDS2017/preprocessed/\")\n",
    "# UNSWNB15 = load_dataset(\"UNSW-NB15\", \"../data/UNSW-NB15/preprocessed/\")\n",
    "CTU13_08 = load_dataset(\"CTU-13_08\", \"../data/CTU-13/preprocessed/08\", pipeline=pipeline)\n",
    "CTU13_09 = load_dataset(\"CTU-13_09\", \"../data/CTU-13/preprocessed/09\", pipeline=pipeline)\n",
    "CTU13_10 = load_dataset(\"CTU-13_10\", \"../data/CTU-13/preprocessed/10\", pipeline=pipeline)\n",
    "CTU13_13 = load_dataset(\"CTU-13_13\", \"../data/CTU-13/preprocessed/13\", pipeline=pipeline)"
   ]
  },
  {
   "cell_type": "code",
   "execution_count": 5,
   "metadata": {},
   "outputs": [
    {
     "name": "stdout",
     "output_type": "stream",
     "text": [
      "\n",
      "KDDCUP99\n",
      "Loaded train data with 66982 samples.\n",
      "Data shape: (66982, 77)\n",
      "num_anomalies: 0\n",
      "num_normal: 66982\n",
      "anomaly ratio: 0.0\n",
      "\n",
      "KDDCUP99\n",
      "Loaded val data with 155514 samples.\n",
      "Data shape: (155514, 77)\n",
      "num_anomalies: 125218\n",
      "num_normal: 30296\n",
      "anomaly ratio: 0.8051879573543218\n",
      "\n",
      "KDDCUP99\n",
      "Loaded train data with 66982 samples.\n",
      "Data shape: (66982, 77)\n",
      "num_anomalies: 0\n",
      "num_normal: 66982\n",
      "anomaly ratio: 0.0\n",
      "\n",
      "KDDCUP99\n",
      "Loaded val data with 155514 samples.\n",
      "Data shape: (155514, 77)\n",
      "num_anomalies: 125218\n",
      "num_normal: 30296\n",
      "anomaly ratio: 0.8051879573543218\n",
      "\n",
      "KDDCUP99\n",
      "Loaded train data with 66982 samples.\n",
      "Data shape: (66982, 77)\n",
      "num_anomalies: 0\n",
      "num_normal: 66982\n",
      "anomaly ratio: 0.0\n",
      "\n",
      "KDDCUP99\n",
      "Loaded val data with 155514 samples.\n",
      "Data shape: (155514, 77)\n",
      "num_anomalies: 125218\n",
      "num_normal: 30296\n",
      "anomaly ratio: 0.8051879573543218\n"
     ]
    }
   ],
   "source": [
    "KDDCUP99_folds = load_dataset_folds(\"KDDCUP99\", \"../data/KDDCUP99/preprocessed/\", kfolds=3, pipeline=pipeline)"
   ]
  },
  {
   "cell_type": "code",
   "execution_count": 19,
   "metadata": {},
   "outputs": [
    {
     "name": "stderr",
     "output_type": "stream",
     "text": [
      "GPU available: True (cuda), used: True\n",
      "TPU available: False, using: 0 TPU cores\n",
      "HPU available: False, using: 0 HPUs\n",
      "C:\\Users\\Szymon\\AppData\\Roaming\\Python\\Python311\\site-packages\\lightning\\pytorch\\callbacks\\model_checkpoint.py:654: Checkpoint directory bin_for_redundant_checkpoints exists and is not empty.\n",
      "LOCAL_RANK: 0 - CUDA_VISIBLE_DEVICES: [0]\n",
      "\n",
      "  | Name    | Type       | Params | Mode \n",
      "-----------------------------------------------\n",
      "0 | encoder | Sequential | 34.6 K | train\n",
      "1 | decoder | Sequential | 34.7 K | train\n",
      "-----------------------------------------------\n",
      "69.3 K    Trainable params\n",
      "0         Non-trainable params\n",
      "69.3 K    Total params\n",
      "0.277     Total estimated model params size (MB)\n",
      "12        Modules in train mode\n",
      "0         Modules in eval mode\n"
     ]
    },
    {
     "data": {
      "application/vnd.jupyter.widget-view+json": {
       "model_id": "2b1a0f10aa6447b0a29fe7cc6554ee2e",
       "version_major": 2,
       "version_minor": 0
      },
      "text/plain": [
       "Sanity Checking: |          | 0/? [00:00<?, ?it/s]"
      ]
     },
     "metadata": {},
     "output_type": "display_data"
    },
    {
     "name": "stderr",
     "output_type": "stream",
     "text": [
      "C:\\Users\\Szymon\\AppData\\Roaming\\Python\\Python311\\site-packages\\torchmetrics\\utilities\\prints.py:43: UserWarning: No positive samples in targets, true positive value should be meaningless. Returning zero tensor in true positive score\n",
      "  warnings.warn(*args, **kwargs)  # noqa: B028\n",
      "C:\\Users\\Szymon\\AppData\\Roaming\\Python\\Python311\\site-packages\\lightning\\pytorch\\loops\\fit_loop.py:310: The number of training batches (21) is smaller than the logging interval Trainer(log_every_n_steps=50). Set a lower value for log_every_n_steps if you want to see logs for the training epoch.\n"
     ]
    },
    {
     "data": {
      "application/vnd.jupyter.widget-view+json": {
       "model_id": "1bc92ded55c04004bdcec7d4d1af6dfa",
       "version_major": 2,
       "version_minor": 0
      },
      "text/plain": [
       "Training: |          | 0/? [00:00<?, ?it/s]"
      ]
     },
     "metadata": {},
     "output_type": "display_data"
    },
    {
     "data": {
      "application/vnd.jupyter.widget-view+json": {
       "model_id": "6879ee17ee6d4d288c5c384d73257bc7",
       "version_major": 2,
       "version_minor": 0
      },
      "text/plain": [
       "Validation: |          | 0/? [00:00<?, ?it/s]"
      ]
     },
     "metadata": {},
     "output_type": "display_data"
    },
    {
     "name": "stderr",
     "output_type": "stream",
     "text": [
      "`Trainer.fit` stopped: `max_epochs=1` reached.\n",
      "GPU available: True (cuda), used: True\n",
      "TPU available: False, using: 0 TPU cores\n",
      "HPU available: False, using: 0 HPUs\n",
      "LOCAL_RANK: 0 - CUDA_VISIBLE_DEVICES: [0]\n"
     ]
    },
    {
     "data": {
      "application/vnd.jupyter.widget-view+json": {
       "model_id": "d4e0cc34733544dca33ca7b8e0bfad07",
       "version_major": 2,
       "version_minor": 0
      },
      "text/plain": [
       "Testing: |          | 0/? [00:00<?, ?it/s]"
      ]
     },
     "metadata": {},
     "output_type": "display_data"
    },
    {
     "data": {
      "text/html": [
       "<pre style=\"white-space:pre;overflow-x:auto;line-height:normal;font-family:Menlo,'DejaVu Sans Mono',consolas,'Courier New',monospace\">┏━━━━━━━━━━━━━━━━━━━━━━━━━━━┳━━━━━━━━━━━━━━━━━━━━━━━━━━━┓\n",
       "┃<span style=\"font-weight: bold\">        Test metric        </span>┃<span style=\"font-weight: bold\">       DataLoader 0        </span>┃\n",
       "┡━━━━━━━━━━━━━━━━━━━━━━━━━━━╇━━━━━━━━━━━━━━━━━━━━━━━━━━━┩\n",
       "│<span style=\"color: #008080; text-decoration-color: #008080\">       test_accuracy       </span>│<span style=\"color: #800080; text-decoration-color: #800080\">    0.9219533205032349     </span>│\n",
       "│<span style=\"color: #008080; text-decoration-color: #008080\">        test_auroc         </span>│<span style=\"color: #800080; text-decoration-color: #800080\">    0.9768496751785278     </span>│\n",
       "│<span style=\"color: #008080; text-decoration-color: #008080\">          test_f1          </span>│<span style=\"color: #800080; text-decoration-color: #800080\">    0.6014625430107117     </span>│\n",
       "│<span style=\"color: #008080; text-decoration-color: #008080\">      test_precision       </span>│<span style=\"color: #800080; text-decoration-color: #800080\">    0.4769498407840729     </span>│\n",
       "│<span style=\"color: #008080; text-decoration-color: #008080\">        test_recall        </span>│<span style=\"color: #800080; text-decoration-color: #800080\">    0.8139534592628479     </span>│\n",
       "└───────────────────────────┴───────────────────────────┘\n",
       "</pre>\n"
      ],
      "text/plain": [
       "┏━━━━━━━━━━━━━━━━━━━━━━━━━━━┳━━━━━━━━━━━━━━━━━━━━━━━━━━━┓\n",
       "┃\u001b[1m \u001b[0m\u001b[1m       Test metric       \u001b[0m\u001b[1m \u001b[0m┃\u001b[1m \u001b[0m\u001b[1m      DataLoader 0       \u001b[0m\u001b[1m \u001b[0m┃\n",
       "┡━━━━━━━━━━━━━━━━━━━━━━━━━━━╇━━━━━━━━━━━━━━━━━━━━━━━━━━━┩\n",
       "│\u001b[36m \u001b[0m\u001b[36m      test_accuracy      \u001b[0m\u001b[36m \u001b[0m│\u001b[35m \u001b[0m\u001b[35m   0.9219533205032349    \u001b[0m\u001b[35m \u001b[0m│\n",
       "│\u001b[36m \u001b[0m\u001b[36m       test_auroc        \u001b[0m\u001b[36m \u001b[0m│\u001b[35m \u001b[0m\u001b[35m   0.9768496751785278    \u001b[0m\u001b[35m \u001b[0m│\n",
       "│\u001b[36m \u001b[0m\u001b[36m         test_f1         \u001b[0m\u001b[36m \u001b[0m│\u001b[35m \u001b[0m\u001b[35m   0.6014625430107117    \u001b[0m\u001b[35m \u001b[0m│\n",
       "│\u001b[36m \u001b[0m\u001b[36m     test_precision      \u001b[0m\u001b[36m \u001b[0m│\u001b[35m \u001b[0m\u001b[35m   0.4769498407840729    \u001b[0m\u001b[35m \u001b[0m│\n",
       "│\u001b[36m \u001b[0m\u001b[36m       test_recall       \u001b[0m\u001b[36m \u001b[0m│\u001b[35m \u001b[0m\u001b[35m   0.8139534592628479    \u001b[0m\u001b[35m \u001b[0m│\n",
       "└───────────────────────────┴───────────────────────────┘\n"
      ]
     },
     "metadata": {},
     "output_type": "display_data"
    },
    {
     "name": "stderr",
     "output_type": "stream",
     "text": [
      "GPU available: True (cuda), used: True\n",
      "TPU available: False, using: 0 TPU cores\n",
      "HPU available: False, using: 0 HPUs\n",
      "C:\\Users\\Szymon\\AppData\\Roaming\\Python\\Python311\\site-packages\\lightning\\pytorch\\callbacks\\model_checkpoint.py:654: Checkpoint directory bin_for_redundant_checkpoints exists and is not empty.\n",
      "LOCAL_RANK: 0 - CUDA_VISIBLE_DEVICES: [0]\n",
      "\n",
      "  | Name    | Type       | Params | Mode \n",
      "-----------------------------------------------\n",
      "0 | encoder | Sequential | 335 K  | train\n",
      "1 | decoder | Sequential | 335 K  | train\n",
      "-----------------------------------------------\n",
      "670 K     Trainable params\n",
      "0         Non-trainable params\n",
      "670 K     Total params\n",
      "2.681     Total estimated model params size (MB)\n",
      "12        Modules in train mode\n",
      "0         Modules in eval mode\n"
     ]
    },
    {
     "data": {
      "application/vnd.jupyter.widget-view+json": {
       "model_id": "a8761a6564694df0860c1c3f8500674a",
       "version_major": 2,
       "version_minor": 0
      },
      "text/plain": [
       "Sanity Checking: |          | 0/? [00:00<?, ?it/s]"
      ]
     },
     "metadata": {},
     "output_type": "display_data"
    },
    {
     "name": "stderr",
     "output_type": "stream",
     "text": [
      "C:\\Users\\Szymon\\AppData\\Roaming\\Python\\Python311\\site-packages\\torchmetrics\\utilities\\prints.py:43: UserWarning: No positive samples in targets, true positive value should be meaningless. Returning zero tensor in true positive score\n",
      "  warnings.warn(*args, **kwargs)  # noqa: B028\n",
      "C:\\Users\\Szymon\\AppData\\Roaming\\Python\\Python311\\site-packages\\lightning\\pytorch\\loops\\fit_loop.py:310: The number of training batches (21) is smaller than the logging interval Trainer(log_every_n_steps=50). Set a lower value for log_every_n_steps if you want to see logs for the training epoch.\n"
     ]
    },
    {
     "data": {
      "application/vnd.jupyter.widget-view+json": {
       "model_id": "3736ed5bb4d142b5b7626e845f6b6aeb",
       "version_major": 2,
       "version_minor": 0
      },
      "text/plain": [
       "Training: |          | 0/? [00:00<?, ?it/s]"
      ]
     },
     "metadata": {},
     "output_type": "display_data"
    },
    {
     "data": {
      "application/vnd.jupyter.widget-view+json": {
       "model_id": "063f743f60d94f089d227e889a77015f",
       "version_major": 2,
       "version_minor": 0
      },
      "text/plain": [
       "Validation: |          | 0/? [00:00<?, ?it/s]"
      ]
     },
     "metadata": {},
     "output_type": "display_data"
    },
    {
     "name": "stderr",
     "output_type": "stream",
     "text": [
      "`Trainer.fit` stopped: `max_epochs=1` reached.\n",
      "GPU available: True (cuda), used: True\n",
      "TPU available: False, using: 0 TPU cores\n",
      "HPU available: False, using: 0 HPUs\n",
      "LOCAL_RANK: 0 - CUDA_VISIBLE_DEVICES: [0]\n"
     ]
    },
    {
     "data": {
      "application/vnd.jupyter.widget-view+json": {
       "model_id": "c6ac4106adbf421caa8deb6eddcdcce3",
       "version_major": 2,
       "version_minor": 0
      },
      "text/plain": [
       "Testing: |          | 0/? [00:00<?, ?it/s]"
      ]
     },
     "metadata": {},
     "output_type": "display_data"
    },
    {
     "data": {
      "text/html": [
       "<pre style=\"white-space:pre;overflow-x:auto;line-height:normal;font-family:Menlo,'DejaVu Sans Mono',consolas,'Courier New',monospace\">┏━━━━━━━━━━━━━━━━━━━━━━━━━━━┳━━━━━━━━━━━━━━━━━━━━━━━━━━━┓\n",
       "┃<span style=\"font-weight: bold\">        Test metric        </span>┃<span style=\"font-weight: bold\">       DataLoader 0        </span>┃\n",
       "┡━━━━━━━━━━━━━━━━━━━━━━━━━━━╇━━━━━━━━━━━━━━━━━━━━━━━━━━━┩\n",
       "│<span style=\"color: #008080; text-decoration-color: #008080\">       test_accuracy       </span>│<span style=\"color: #800080; text-decoration-color: #800080\">     0.942395806312561     </span>│\n",
       "│<span style=\"color: #008080; text-decoration-color: #008080\">        test_auroc         </span>│<span style=\"color: #800080; text-decoration-color: #800080\">    0.9632270932197571     </span>│\n",
       "│<span style=\"color: #008080; text-decoration-color: #008080\">          test_f1          </span>│<span style=\"color: #800080; text-decoration-color: #800080\">    0.6587486863136292     </span>│\n",
       "│<span style=\"color: #008080; text-decoration-color: #008080\">      test_precision       </span>│<span style=\"color: #800080; text-decoration-color: #800080\">    0.5764662027359009     </span>│\n",
       "│<span style=\"color: #008080; text-decoration-color: #008080\">        test_recall        </span>│<span style=\"color: #800080; text-decoration-color: #800080\">    0.7684314846992493     </span>│\n",
       "└───────────────────────────┴───────────────────────────┘\n",
       "</pre>\n"
      ],
      "text/plain": [
       "┏━━━━━━━━━━━━━━━━━━━━━━━━━━━┳━━━━━━━━━━━━━━━━━━━━━━━━━━━┓\n",
       "┃\u001b[1m \u001b[0m\u001b[1m       Test metric       \u001b[0m\u001b[1m \u001b[0m┃\u001b[1m \u001b[0m\u001b[1m      DataLoader 0       \u001b[0m\u001b[1m \u001b[0m┃\n",
       "┡━━━━━━━━━━━━━━━━━━━━━━━━━━━╇━━━━━━━━━━━━━━━━━━━━━━━━━━━┩\n",
       "│\u001b[36m \u001b[0m\u001b[36m      test_accuracy      \u001b[0m\u001b[36m \u001b[0m│\u001b[35m \u001b[0m\u001b[35m    0.942395806312561    \u001b[0m\u001b[35m \u001b[0m│\n",
       "│\u001b[36m \u001b[0m\u001b[36m       test_auroc        \u001b[0m\u001b[36m \u001b[0m│\u001b[35m \u001b[0m\u001b[35m   0.9632270932197571    \u001b[0m\u001b[35m \u001b[0m│\n",
       "│\u001b[36m \u001b[0m\u001b[36m         test_f1         \u001b[0m\u001b[36m \u001b[0m│\u001b[35m \u001b[0m\u001b[35m   0.6587486863136292    \u001b[0m\u001b[35m \u001b[0m│\n",
       "│\u001b[36m \u001b[0m\u001b[36m     test_precision      \u001b[0m\u001b[36m \u001b[0m│\u001b[35m \u001b[0m\u001b[35m   0.5764662027359009    \u001b[0m\u001b[35m \u001b[0m│\n",
       "│\u001b[36m \u001b[0m\u001b[36m       test_recall       \u001b[0m\u001b[36m \u001b[0m│\u001b[35m \u001b[0m\u001b[35m   0.7684314846992493    \u001b[0m\u001b[35m \u001b[0m│\n",
       "└───────────────────────────┴───────────────────────────┘\n"
      ]
     },
     "metadata": {},
     "output_type": "display_data"
    }
   ],
   "source": [
    "datasets = [CTU13_08]\n",
    "hidden_sizes = [[256, 64, 12], [1024, 256, 12]]\n",
    "initial_lrs = [2e-3]\n",
    "\n",
    "logger = CSVLogger(\"../out/logs/ae_experiments.csv\")\n",
    "\n",
    "for folds in datasets:\n",
    "    for hidden_size in hidden_sizes:\n",
    "        for initial_lr in initial_lrs:\n",
    "            for i in range(1):\n",
    "\n",
    "                model = AE(input_size=folds['train'][0][0].shape[0], \n",
    "                            hidden_sizes=hidden_size,\n",
    "                            initial_lr=initial_lr,\n",
    "                            linear_lr_start_factor=1, \n",
    "                            linear_lr_end_factor=0.03, \n",
    "                            linear_lr_total_iters=100)\n",
    "\n",
    "                result = run_experiment(model=model,\n",
    "                            dataset=folds,\n",
    "                            max_epochs=1,\n",
    "                            experiment_name=f\"new {folds['train'].name} AE tests\",\n",
    "                            run_name=f\"hidden_sizes={hidden_size} lr={initial_lr} v{i}\",\n",
    "                            save_model=False)\n",
    "                \n",
    "                logger.log(result)"
   ]
  },
  {
   "cell_type": "code",
   "execution_count": 8,
   "metadata": {},
   "outputs": [
    {
     "ename": "TypeError",
     "evalue": "run_cross_validation() got an unexpected keyword argument 'kfolds'",
     "output_type": "error",
     "traceback": [
      "\u001b[1;31m---------------------------------------------------------------------------\u001b[0m",
      "\u001b[1;31mTypeError\u001b[0m                                 Traceback (most recent call last)",
      "Cell \u001b[1;32mIn[8], line 19\u001b[0m\n\u001b[0;32m     10\u001b[0m \u001b[38;5;28;01mfor\u001b[39;00m i \u001b[38;5;129;01min\u001b[39;00m \u001b[38;5;28mrange\u001b[39m(\u001b[38;5;241m1\u001b[39m):\n\u001b[0;32m     12\u001b[0m     model \u001b[38;5;241m=\u001b[39m AE(input_size\u001b[38;5;241m=\u001b[39mfolds[\u001b[38;5;241m0\u001b[39m][\u001b[38;5;124m'\u001b[39m\u001b[38;5;124mtrain\u001b[39m\u001b[38;5;124m'\u001b[39m][\u001b[38;5;241m0\u001b[39m][\u001b[38;5;241m0\u001b[39m]\u001b[38;5;241m.\u001b[39mshape[\u001b[38;5;241m0\u001b[39m], \n\u001b[0;32m     13\u001b[0m                 hidden_sizes\u001b[38;5;241m=\u001b[39mhidden_size,\n\u001b[0;32m     14\u001b[0m                 initial_lr\u001b[38;5;241m=\u001b[39minitial_lr,\n\u001b[0;32m     15\u001b[0m                 linear_lr_start_factor\u001b[38;5;241m=\u001b[39m\u001b[38;5;241m1\u001b[39m, \n\u001b[0;32m     16\u001b[0m                 linear_lr_end_factor\u001b[38;5;241m=\u001b[39m\u001b[38;5;241m0.03\u001b[39m, \n\u001b[0;32m     17\u001b[0m                 linear_lr_total_iters\u001b[38;5;241m=\u001b[39m\u001b[38;5;241m100\u001b[39m)\n\u001b[1;32m---> 19\u001b[0m     result, _ \u001b[38;5;241m=\u001b[39m \u001b[43mrun_cross_validation\u001b[49m\u001b[43m(\u001b[49m\n\u001b[0;32m     20\u001b[0m \u001b[43m        \u001b[49m\u001b[43mmodel\u001b[49m\u001b[38;5;241;43m=\u001b[39;49m\u001b[43mmodel\u001b[49m\u001b[43m,\u001b[49m\n\u001b[0;32m     21\u001b[0m \u001b[43m        \u001b[49m\u001b[43mdataset_folds\u001b[49m\u001b[38;5;241;43m=\u001b[39;49m\u001b[43mfolds\u001b[49m\u001b[43m,\u001b[49m\n\u001b[0;32m     22\u001b[0m \u001b[43m        \u001b[49m\u001b[43mmax_epochs\u001b[49m\u001b[38;5;241;43m=\u001b[39;49m\u001b[38;5;241;43m10\u001b[39;49m\u001b[43m,\u001b[49m\n\u001b[0;32m     23\u001b[0m \u001b[43m        \u001b[49m\u001b[43mexperiment_name\u001b[49m\u001b[38;5;241;43m=\u001b[39;49m\u001b[38;5;124;43mf\u001b[39;49m\u001b[38;5;124;43m\"\u001b[39;49m\u001b[38;5;124;43mCV test\u001b[39;49m\u001b[38;5;124;43m\"\u001b[39;49m\u001b[43m,\u001b[49m\n\u001b[0;32m     24\u001b[0m \u001b[43m        \u001b[49m\u001b[43mrun_name\u001b[49m\u001b[38;5;241;43m=\u001b[39;49m\u001b[38;5;124;43mf\u001b[39;49m\u001b[38;5;124;43m\"\u001b[39;49m\u001b[38;5;124;43mhidden_sizes=\u001b[39;49m\u001b[38;5;132;43;01m{\u001b[39;49;00m\u001b[43mhidden_size\u001b[49m\u001b[38;5;132;43;01m}\u001b[39;49;00m\u001b[38;5;124;43m lr=\u001b[39;49m\u001b[38;5;132;43;01m{\u001b[39;49;00m\u001b[43minitial_lr\u001b[49m\u001b[38;5;132;43;01m}\u001b[39;49;00m\u001b[38;5;124;43m v\u001b[39;49m\u001b[38;5;132;43;01m{\u001b[39;49;00m\u001b[43mi\u001b[49m\u001b[38;5;132;43;01m}\u001b[39;49;00m\u001b[38;5;124;43m\"\u001b[39;49m\u001b[43m,\u001b[49m\n\u001b[0;32m     25\u001b[0m \u001b[43m        \u001b[49m\u001b[43msave_model\u001b[49m\u001b[38;5;241;43m=\u001b[39;49m\u001b[38;5;28;43;01mFalse\u001b[39;49;00m\u001b[43m,\u001b[49m\n\u001b[0;32m     26\u001b[0m \u001b[43m        \u001b[49m\u001b[43mkfolds\u001b[49m\u001b[38;5;241;43m=\u001b[39;49m\u001b[38;5;241;43m3\u001b[39;49m\n\u001b[0;32m     27\u001b[0m \u001b[43m    \u001b[49m\u001b[43m)\u001b[49m\n\u001b[0;32m     29\u001b[0m     logger\u001b[38;5;241m.\u001b[39mlog(result)\n",
      "\u001b[1;31mTypeError\u001b[0m: run_cross_validation() got an unexpected keyword argument 'kfolds'"
     ]
    }
   ],
   "source": [
    "datasets = [KDDCUP99_folds]\n",
    "hidden_sizes = [[256, 64, 12], [1024, 256, 12]]\n",
    "initial_lrs = [2e-3]\n",
    "\n",
    "logger = CSVLogger(\"../out/logs/kdd_experiments.csv\")\n",
    "\n",
    "for folds in datasets:\n",
    "    for hidden_size in hidden_sizes:\n",
    "        for initial_lr in initial_lrs:\n",
    "            for i in range(1):\n",
    "\n",
    "                model = AE(input_size=folds[0]['train'][0][0].shape[0], \n",
    "                            hidden_sizes=hidden_size,\n",
    "                            initial_lr=initial_lr,\n",
    "                            linear_lr_start_factor=1, \n",
    "                            linear_lr_end_factor=0.03, \n",
    "                            linear_lr_total_iters=100)\n",
    "\n",
    "                result, _ = run_cross_validation(\n",
    "                    model=model,\n",
    "                    dataset_folds=folds,\n",
    "                    max_epochs=10,\n",
    "                    experiment_name=f\"CV test\",\n",
    "                    run_name=f\"hidden_sizes={hidden_size} lr={initial_lr} v{i}\",\n",
    "                    save_model=False\n",
    "                )\n",
    "                \n",
    "                logger.log(result)"
   ]
  }
 ],
 "metadata": {
  "kernelspec": {
   "display_name": "Python 3",
   "language": "python",
   "name": "python3"
  },
  "language_info": {
   "codemirror_mode": {
    "name": "ipython",
    "version": 3
   },
   "file_extension": ".py",
   "mimetype": "text/x-python",
   "name": "python",
   "nbconvert_exporter": "python",
   "pygments_lexer": "ipython3",
   "version": "3.11.8"
  }
 },
 "nbformat": 4,
 "nbformat_minor": 2
}
