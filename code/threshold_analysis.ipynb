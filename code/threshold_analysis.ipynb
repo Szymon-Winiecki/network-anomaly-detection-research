{
 "cells": [
  {
   "cell_type": "code",
   "execution_count": null,
   "metadata": {},
   "outputs": [],
   "source": [
    "%load_ext autoreload\n",
    "%autoreload 2\n",
    "\n",
    "from pathlib import Path\n",
    "\n",
    "import sys\n",
    "sys.path.append('./datasets')\n",
    "sys.path.append('./models')\n",
    "sys.path.append('./utils')\n",
    "sys.path.append('./visualization')\n",
    "\n",
    "import numpy as np\n",
    "import pandas as pd\n",
    "\n",
    "from utils.experiment_utils import CSVLogger\n",
    "\n",
    "from visualization.comparison_plots import compare_param"
   ]
  },
  {
   "cell_type": "code",
   "execution_count": null,
   "metadata": {},
   "outputs": [],
   "source": [
    "UNSWNB15 = 'UNSW-NB15'\n",
    "KDDCUP99 = 'KDDCUP99'\n",
    "CTU13_08 = 'CTU-13_08'\n",
    "CTU13_09 = 'CTU-13_09'\n",
    "CTU13_10 = 'CTU-13_10'\n",
    "CTU13_13 = 'CTU-13_13'"
   ]
  },
  {
   "cell_type": "code",
   "execution_count": null,
   "metadata": {},
   "outputs": [],
   "source": [
    "root_logs_dir = Path('../out/logs/threshold/')\n",
    "root_plots_dir = Path('../out/figures/final_commas/')"
   ]
  },
  {
   "cell_type": "code",
   "execution_count": null,
   "metadata": {},
   "outputs": [],
   "source": [
    "\n",
    "\n",
    "model = 'AE_svm'\n",
    "model_print = 'AE'\n",
    "\n",
    "datasets = [KDDCUP99, UNSWNB15, CTU13_08, CTU13_09, CTU13_10, CTU13_13]\n",
    "\n",
    "dataset_names = []\n",
    "param_values = []\n",
    "mean_scores = []\n",
    "\n",
    "param = 'quantile'\n",
    "\n",
    "limit = 2000\n",
    "\n",
    "for dataset in datasets:\n",
    "\n",
    "    print(f\"Processing dataset: {dataset}\")\n",
    "\n",
    "    logger = CSVLogger( root_logs_dir / f\"{model}_{dataset}.csv\")\n",
    "\n",
    "    df = logger.get_df()\n",
    "\n",
    "    gr_df = df.groupby([param], as_index=False).agg({\n",
    "        param: 'first',\n",
    "        'test_auroc': ['mean', 'std'],\n",
    "        'test_mcc': ['mean', 'std'],\n",
    "    })\n",
    "\n",
    "    param_value = np.array(gr_df[param].squeeze().to_list())\n",
    "    score = np.array(gr_df[('test_mcc', 'mean')].to_list())\n",
    "\n",
    "\n",
    "    dataset_names.append(dataset)\n",
    "    param_values.append(param_value)\n",
    "    mean_scores.append(score)\n",
    "        \n",
    "\n",
    "\n",
    "compare_param(dataset_names, param_values, mean_scores, \"$p$\", metric=\"MCC\", title=f\"{model_print}\", continuous=True, color_blind_mode=True, save_path= root_plots_dir / \"tuning\" / \"threshold\" / f\"{model_print}_tuning_threshold_dalton.png\")\n",
    "compare_param(dataset_names, param_values, mean_scores, \"$p$\", metric=\"MCC\", title=f\"{model_print}\", continuous=True, save_path=root_plots_dir / \"tuning\" / \"threshold\" / f\"{model_print}_tuning_threshold.png\")\n"
   ]
  }
 ],
 "metadata": {
  "kernelspec": {
   "display_name": "Python 3",
   "language": "python",
   "name": "python3"
  },
  "language_info": {
   "codemirror_mode": {
    "name": "ipython",
    "version": 3
   },
   "file_extension": ".py",
   "mimetype": "text/x-python",
   "name": "python",
   "nbconvert_exporter": "python",
   "pygments_lexer": "ipython3",
   "version": "3.11.8"
  }
 },
 "nbformat": 4,
 "nbformat_minor": 2
}
